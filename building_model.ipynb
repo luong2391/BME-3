{
 "cells": [
  {
   "attachments": {},
   "cell_type": "markdown",
   "id": "784ffe9f",
   "metadata": {},
   "source": [
    "#### Import libraries and packages"
   ]
  },
  {
   "cell_type": "code",
   "execution_count": 1,
   "id": "41aa5e12",
   "metadata": {},
   "outputs": [],
   "source": [
    "import numpy as np\n",
    "import pandas as pd\n",
    "\n",
    "import matplotlib.pyplot as plt\n",
    "import matplotlib.ticker as ticker\n",
    "\n",
    "from sklearn.metrics import mean_squared_error\n",
    "from sklearn.utils import column_or_1d\n",
    "from sklearn.preprocessing import MinMaxScaler, StandardScaler\n",
    "from sklearn.metrics import mean_absolute_error, mean_squared_error, mean_absolute_percentage_error\n",
    "\n",
    "import plotly.express as px\n"
   ]
  },
  {
   "attachments": {},
   "cell_type": "markdown",
   "id": "5157f8fb",
   "metadata": {},
   "source": [
    "#### Import dataset"
   ]
  },
  {
   "cell_type": "code",
   "execution_count": 2,
   "id": "7245afc3",
   "metadata": {},
   "outputs": [],
   "source": [
    "df = pd.read_csv(\"C:\\\\Users\\\\Admin\\\\Desktop\\\\BME 3\\\\BME-3\\\\dataset\\\\data_model.csv\", parse_dates=True,index_col=0)"
   ]
  },
  {
   "attachments": {},
   "cell_type": "markdown",
   "id": "5139c104",
   "metadata": {},
   "source": [
    "#### Create a new Timestamp column for time series forecasting"
   ]
  },
  {
   "cell_type": "code",
   "execution_count": 3,
   "id": "ea5fdca8",
   "metadata": {},
   "outputs": [
    {
     "data": {
      "text/html": [
       "<div>\n",
       "<style scoped>\n",
       "    .dataframe tbody tr th:only-of-type {\n",
       "        vertical-align: middle;\n",
       "    }\n",
       "\n",
       "    .dataframe tbody tr th {\n",
       "        vertical-align: top;\n",
       "    }\n",
       "\n",
       "    .dataframe thead th {\n",
       "        text-align: right;\n",
       "    }\n",
       "</style>\n",
       "<table border=\"1\" class=\"dataframe\">\n",
       "  <thead>\n",
       "    <tr style=\"text-align: right;\">\n",
       "      <th></th>\n",
       "      <th>quantity</th>\n",
       "      <th>Timestamp</th>\n",
       "    </tr>\n",
       "    <tr>\n",
       "      <th>time</th>\n",
       "      <th></th>\n",
       "      <th></th>\n",
       "    </tr>\n",
       "  </thead>\n",
       "  <tbody>\n",
       "    <tr>\n",
       "      <th>2018-10-01</th>\n",
       "      <td>11.695247</td>\n",
       "      <td>1.538352e+09</td>\n",
       "    </tr>\n",
       "    <tr>\n",
       "      <th>2018-11-01</th>\n",
       "      <td>26.139366</td>\n",
       "      <td>1.541030e+09</td>\n",
       "    </tr>\n",
       "    <tr>\n",
       "      <th>2018-12-01</th>\n",
       "      <td>10.819778</td>\n",
       "      <td>1.543622e+09</td>\n",
       "    </tr>\n",
       "    <tr>\n",
       "      <th>2019-01-01</th>\n",
       "      <td>9.210340</td>\n",
       "      <td>1.546301e+09</td>\n",
       "    </tr>\n",
       "    <tr>\n",
       "      <th>2019-02-01</th>\n",
       "      <td>13.122363</td>\n",
       "      <td>1.548979e+09</td>\n",
       "    </tr>\n",
       "    <tr>\n",
       "      <th>2019-03-01</th>\n",
       "      <td>23.025851</td>\n",
       "      <td>1.551398e+09</td>\n",
       "    </tr>\n",
       "    <tr>\n",
       "      <th>2019-04-01</th>\n",
       "      <td>53.911887</td>\n",
       "      <td>1.554077e+09</td>\n",
       "    </tr>\n",
       "    <tr>\n",
       "      <th>2019-05-01</th>\n",
       "      <td>24.019103</td>\n",
       "      <td>1.556669e+09</td>\n",
       "    </tr>\n",
       "    <tr>\n",
       "      <th>2019-06-01</th>\n",
       "      <td>34.615737</td>\n",
       "      <td>1.559347e+09</td>\n",
       "    </tr>\n",
       "    <tr>\n",
       "      <th>2019-07-01</th>\n",
       "      <td>23.431316</td>\n",
       "      <td>1.561939e+09</td>\n",
       "    </tr>\n",
       "    <tr>\n",
       "      <th>2019-08-01</th>\n",
       "      <td>21.023370</td>\n",
       "      <td>1.564618e+09</td>\n",
       "    </tr>\n",
       "    <tr>\n",
       "      <th>2019-09-01</th>\n",
       "      <td>68.692478</td>\n",
       "      <td>1.567296e+09</td>\n",
       "    </tr>\n",
       "    <tr>\n",
       "      <th>2019-10-01</th>\n",
       "      <td>65.850897</td>\n",
       "      <td>1.569888e+09</td>\n",
       "    </tr>\n",
       "    <tr>\n",
       "      <th>2019-11-01</th>\n",
       "      <td>171.896583</td>\n",
       "      <td>1.572566e+09</td>\n",
       "    </tr>\n",
       "    <tr>\n",
       "      <th>2019-12-01</th>\n",
       "      <td>239.398466</td>\n",
       "      <td>1.575158e+09</td>\n",
       "    </tr>\n",
       "    <tr>\n",
       "      <th>2020-01-01</th>\n",
       "      <td>186.780102</td>\n",
       "      <td>1.577837e+09</td>\n",
       "    </tr>\n",
       "    <tr>\n",
       "      <th>2020-02-01</th>\n",
       "      <td>91.694613</td>\n",
       "      <td>1.580515e+09</td>\n",
       "    </tr>\n",
       "    <tr>\n",
       "      <th>2020-03-01</th>\n",
       "      <td>81.624740</td>\n",
       "      <td>1.583021e+09</td>\n",
       "    </tr>\n",
       "    <tr>\n",
       "      <th>2020-04-01</th>\n",
       "      <td>101.342164</td>\n",
       "      <td>1.585699e+09</td>\n",
       "    </tr>\n",
       "    <tr>\n",
       "      <th>2020-05-01</th>\n",
       "      <td>57.102592</td>\n",
       "      <td>1.588291e+09</td>\n",
       "    </tr>\n",
       "    <tr>\n",
       "      <th>2020-06-01</th>\n",
       "      <td>78.295861</td>\n",
       "      <td>1.590970e+09</td>\n",
       "    </tr>\n",
       "    <tr>\n",
       "      <th>2020-07-01</th>\n",
       "      <td>54.429688</td>\n",
       "      <td>1.593562e+09</td>\n",
       "    </tr>\n",
       "    <tr>\n",
       "      <th>2020-08-01</th>\n",
       "      <td>65.169584</td>\n",
       "      <td>1.596240e+09</td>\n",
       "    </tr>\n",
       "    <tr>\n",
       "      <th>2020-09-01</th>\n",
       "      <td>90.981656</td>\n",
       "      <td>1.598918e+09</td>\n",
       "    </tr>\n",
       "    <tr>\n",
       "      <th>2020-10-01</th>\n",
       "      <td>131.754012</td>\n",
       "      <td>1.601510e+09</td>\n",
       "    </tr>\n",
       "    <tr>\n",
       "      <th>2020-11-01</th>\n",
       "      <td>171.279376</td>\n",
       "      <td>1.604189e+09</td>\n",
       "    </tr>\n",
       "    <tr>\n",
       "      <th>2020-12-01</th>\n",
       "      <td>130.910083</td>\n",
       "      <td>1.606781e+09</td>\n",
       "    </tr>\n",
       "    <tr>\n",
       "      <th>2021-01-01</th>\n",
       "      <td>115.801971</td>\n",
       "      <td>1.609459e+09</td>\n",
       "    </tr>\n",
       "    <tr>\n",
       "      <th>2021-02-01</th>\n",
       "      <td>99.203598</td>\n",
       "      <td>1.612138e+09</td>\n",
       "    </tr>\n",
       "    <tr>\n",
       "      <th>2021-03-01</th>\n",
       "      <td>112.895952</td>\n",
       "      <td>1.614557e+09</td>\n",
       "    </tr>\n",
       "    <tr>\n",
       "      <th>2021-04-01</th>\n",
       "      <td>114.995911</td>\n",
       "      <td>1.617235e+09</td>\n",
       "    </tr>\n",
       "    <tr>\n",
       "      <th>2021-05-01</th>\n",
       "      <td>107.465007</td>\n",
       "      <td>1.619827e+09</td>\n",
       "    </tr>\n",
       "    <tr>\n",
       "      <th>2021-06-01</th>\n",
       "      <td>54.279612</td>\n",
       "      <td>1.622506e+09</td>\n",
       "    </tr>\n",
       "    <tr>\n",
       "      <th>2021-07-01</th>\n",
       "      <td>126.382363</td>\n",
       "      <td>1.625098e+09</td>\n",
       "    </tr>\n",
       "    <tr>\n",
       "      <th>2021-08-01</th>\n",
       "      <td>97.185144</td>\n",
       "      <td>1.627776e+09</td>\n",
       "    </tr>\n",
       "    <tr>\n",
       "      <th>2021-09-01</th>\n",
       "      <td>114.018510</td>\n",
       "      <td>1.630454e+09</td>\n",
       "    </tr>\n",
       "    <tr>\n",
       "      <th>2021-10-01</th>\n",
       "      <td>94.490918</td>\n",
       "      <td>1.633046e+09</td>\n",
       "    </tr>\n",
       "    <tr>\n",
       "      <th>2021-11-01</th>\n",
       "      <td>107.379667</td>\n",
       "      <td>1.635725e+09</td>\n",
       "    </tr>\n",
       "    <tr>\n",
       "      <th>2021-12-01</th>\n",
       "      <td>114.796298</td>\n",
       "      <td>1.638317e+09</td>\n",
       "    </tr>\n",
       "    <tr>\n",
       "      <th>2022-01-01</th>\n",
       "      <td>158.797924</td>\n",
       "      <td>1.640995e+09</td>\n",
       "    </tr>\n",
       "    <tr>\n",
       "      <th>2022-02-01</th>\n",
       "      <td>95.817951</td>\n",
       "      <td>1.643674e+09</td>\n",
       "    </tr>\n",
       "    <tr>\n",
       "      <th>2022-03-01</th>\n",
       "      <td>105.664868</td>\n",
       "      <td>1.646093e+09</td>\n",
       "    </tr>\n",
       "    <tr>\n",
       "      <th>2022-04-01</th>\n",
       "      <td>107.063738</td>\n",
       "      <td>1.648771e+09</td>\n",
       "    </tr>\n",
       "    <tr>\n",
       "      <th>2022-05-01</th>\n",
       "      <td>183.044043</td>\n",
       "      <td>1.651363e+09</td>\n",
       "    </tr>\n",
       "    <tr>\n",
       "      <th>2022-06-01</th>\n",
       "      <td>168.449490</td>\n",
       "      <td>1.654042e+09</td>\n",
       "    </tr>\n",
       "    <tr>\n",
       "      <th>2022-07-01</th>\n",
       "      <td>52.620903</td>\n",
       "      <td>1.656634e+09</td>\n",
       "    </tr>\n",
       "  </tbody>\n",
       "</table>\n",
       "</div>"
      ],
      "text/plain": [
       "              quantity     Timestamp\n",
       "time                                \n",
       "2018-10-01   11.695247  1.538352e+09\n",
       "2018-11-01   26.139366  1.541030e+09\n",
       "2018-12-01   10.819778  1.543622e+09\n",
       "2019-01-01    9.210340  1.546301e+09\n",
       "2019-02-01   13.122363  1.548979e+09\n",
       "2019-03-01   23.025851  1.551398e+09\n",
       "2019-04-01   53.911887  1.554077e+09\n",
       "2019-05-01   24.019103  1.556669e+09\n",
       "2019-06-01   34.615737  1.559347e+09\n",
       "2019-07-01   23.431316  1.561939e+09\n",
       "2019-08-01   21.023370  1.564618e+09\n",
       "2019-09-01   68.692478  1.567296e+09\n",
       "2019-10-01   65.850897  1.569888e+09\n",
       "2019-11-01  171.896583  1.572566e+09\n",
       "2019-12-01  239.398466  1.575158e+09\n",
       "2020-01-01  186.780102  1.577837e+09\n",
       "2020-02-01   91.694613  1.580515e+09\n",
       "2020-03-01   81.624740  1.583021e+09\n",
       "2020-04-01  101.342164  1.585699e+09\n",
       "2020-05-01   57.102592  1.588291e+09\n",
       "2020-06-01   78.295861  1.590970e+09\n",
       "2020-07-01   54.429688  1.593562e+09\n",
       "2020-08-01   65.169584  1.596240e+09\n",
       "2020-09-01   90.981656  1.598918e+09\n",
       "2020-10-01  131.754012  1.601510e+09\n",
       "2020-11-01  171.279376  1.604189e+09\n",
       "2020-12-01  130.910083  1.606781e+09\n",
       "2021-01-01  115.801971  1.609459e+09\n",
       "2021-02-01   99.203598  1.612138e+09\n",
       "2021-03-01  112.895952  1.614557e+09\n",
       "2021-04-01  114.995911  1.617235e+09\n",
       "2021-05-01  107.465007  1.619827e+09\n",
       "2021-06-01   54.279612  1.622506e+09\n",
       "2021-07-01  126.382363  1.625098e+09\n",
       "2021-08-01   97.185144  1.627776e+09\n",
       "2021-09-01  114.018510  1.630454e+09\n",
       "2021-10-01   94.490918  1.633046e+09\n",
       "2021-11-01  107.379667  1.635725e+09\n",
       "2021-12-01  114.796298  1.638317e+09\n",
       "2022-01-01  158.797924  1.640995e+09\n",
       "2022-02-01   95.817951  1.643674e+09\n",
       "2022-03-01  105.664868  1.646093e+09\n",
       "2022-04-01  107.063738  1.648771e+09\n",
       "2022-05-01  183.044043  1.651363e+09\n",
       "2022-06-01  168.449490  1.654042e+09\n",
       "2022-07-01   52.620903  1.656634e+09"
      ]
     },
     "execution_count": 3,
     "metadata": {},
     "output_type": "execute_result"
    }
   ],
   "source": [
    "df['Timestamp'] = pd.to_datetime(df.index).astype(np.int64) / 10**9\n",
    "df_index = df.index\n",
    "df_open = df['quantity'].values.reshape(-1, 1)\n",
    "df.head()\n",
    "\n",
    "df"
   ]
  },
  {
   "attachments": {},
   "cell_type": "markdown",
   "id": "66894de5",
   "metadata": {},
   "source": [
    "#### Plotting line chart"
   ]
  },
  {
   "cell_type": "code",
   "execution_count": 4,
   "id": "a9bd03a3",
   "metadata": {},
   "outputs": [
    {
     "data": {
      "image/png": "[encoded data removed]",
      "text/plain": [
       "<Figure size 1152x648 with 1 Axes>"
      ]
     },
     "metadata": {
      "needs_background": "light"
     },
     "output_type": "display_data"
    }
   ],
   "source": [
    "formatter = ticker.StrMethodFormatter('{x:,.0f} unit')\n",
    "\n",
    "title = 'Amount of drug'\n",
    "ylabel = 'Unit'\n",
    "xlabel = 'Date'\n",
    "\n",
    "ax = df['quantity'].plot(figsize=(16, 9), title=title)\n",
    "ax.autoscale(axis='x', tight=True)\n",
    "ax.set(xlabel=xlabel, ylabel=ylabel)\n",
    "ax.yaxis.set_major_formatter(formatter)\n",
    "ax.grid(True)"
   ]
  },
  {
   "attachments": {},
   "cell_type": "markdown",
   "id": "10f646d6",
   "metadata": {},
   "source": [
    "#### Normalizing / scaling data to facilitate model building"
   ]
  },
  {
   "cell_type": "code",
   "execution_count": 5,
   "id": "eff649ad",
   "metadata": {},
   "outputs": [
    {
     "data": {
      "text/html": [
       "<div>\n",
       "<style scoped>\n",
       "    .dataframe tbody tr th:only-of-type {\n",
       "        vertical-align: middle;\n",
       "    }\n",
       "\n",
       "    .dataframe tbody tr th {\n",
       "        vertical-align: top;\n",
       "    }\n",
       "\n",
       "    .dataframe thead th {\n",
       "        text-align: right;\n",
       "    }\n",
       "</style>\n",
       "<table border=\"1\" class=\"dataframe\">\n",
       "  <thead>\n",
       "    <tr style=\"text-align: right;\">\n",
       "      <th></th>\n",
       "      <th>quantity</th>\n",
       "      <th>Timestamp</th>\n",
       "    </tr>\n",
       "    <tr>\n",
       "      <th>time</th>\n",
       "      <th></th>\n",
       "      <th></th>\n",
       "    </tr>\n",
       "  </thead>\n",
       "  <tbody>\n",
       "    <tr>\n",
       "      <th>2018-10-01</th>\n",
       "      <td>-1.473724</td>\n",
       "      <td>1.538352e+09</td>\n",
       "    </tr>\n",
       "    <tr>\n",
       "      <th>2018-11-01</th>\n",
       "      <td>-1.204020</td>\n",
       "      <td>1.541030e+09</td>\n",
       "    </tr>\n",
       "    <tr>\n",
       "      <th>2018-12-01</th>\n",
       "      <td>-1.490071</td>\n",
       "      <td>1.543622e+09</td>\n",
       "    </tr>\n",
       "    <tr>\n",
       "      <th>2019-01-01</th>\n",
       "      <td>-1.520123</td>\n",
       "      <td>1.546301e+09</td>\n",
       "    </tr>\n",
       "    <tr>\n",
       "      <th>2019-02-01</th>\n",
       "      <td>-1.447077</td>\n",
       "      <td>1.548979e+09</td>\n",
       "    </tr>\n",
       "    <tr>\n",
       "      <th>2019-03-01</th>\n",
       "      <td>-1.262156</td>\n",
       "      <td>1.551398e+09</td>\n",
       "    </tr>\n",
       "    <tr>\n",
       "      <th>2019-04-01</th>\n",
       "      <td>-0.685444</td>\n",
       "      <td>1.554077e+09</td>\n",
       "    </tr>\n",
       "    <tr>\n",
       "      <th>2019-05-01</th>\n",
       "      <td>-1.243610</td>\n",
       "      <td>1.556669e+09</td>\n",
       "    </tr>\n",
       "    <tr>\n",
       "      <th>2019-06-01</th>\n",
       "      <td>-1.045747</td>\n",
       "      <td>1.559347e+09</td>\n",
       "    </tr>\n",
       "    <tr>\n",
       "      <th>2019-07-01</th>\n",
       "      <td>-1.254585</td>\n",
       "      <td>1.561939e+09</td>\n",
       "    </tr>\n",
       "    <tr>\n",
       "      <th>2019-08-01</th>\n",
       "      <td>-1.299547</td>\n",
       "      <td>1.564618e+09</td>\n",
       "    </tr>\n",
       "    <tr>\n",
       "      <th>2019-09-01</th>\n",
       "      <td>-0.409457</td>\n",
       "      <td>1.567296e+09</td>\n",
       "    </tr>\n",
       "    <tr>\n",
       "      <th>2019-10-01</th>\n",
       "      <td>-0.462516</td>\n",
       "      <td>1.569888e+09</td>\n",
       "    </tr>\n",
       "    <tr>\n",
       "      <th>2019-11-01</th>\n",
       "      <td>1.517597</td>\n",
       "      <td>1.572566e+09</td>\n",
       "    </tr>\n",
       "    <tr>\n",
       "      <th>2019-12-01</th>\n",
       "      <td>2.778010</td>\n",
       "      <td>1.575158e+09</td>\n",
       "    </tr>\n",
       "    <tr>\n",
       "      <th>2020-01-01</th>\n",
       "      <td>1.795506</td>\n",
       "      <td>1.577837e+09</td>\n",
       "    </tr>\n",
       "    <tr>\n",
       "      <th>2020-02-01</th>\n",
       "      <td>0.020045</td>\n",
       "      <td>1.580515e+09</td>\n",
       "    </tr>\n",
       "    <tr>\n",
       "      <th>2020-03-01</th>\n",
       "      <td>-0.167983</td>\n",
       "      <td>1.583021e+09</td>\n",
       "    </tr>\n",
       "    <tr>\n",
       "      <th>2020-04-01</th>\n",
       "      <td>0.200186</td>\n",
       "      <td>1.585699e+09</td>\n",
       "    </tr>\n",
       "    <tr>\n",
       "      <th>2020-05-01</th>\n",
       "      <td>-0.625867</td>\n",
       "      <td>1.588291e+09</td>\n",
       "    </tr>\n",
       "    <tr>\n",
       "      <th>2020-06-01</th>\n",
       "      <td>-0.230140</td>\n",
       "      <td>1.590970e+09</td>\n",
       "    </tr>\n",
       "    <tr>\n",
       "      <th>2020-07-01</th>\n",
       "      <td>-0.675776</td>\n",
       "      <td>1.593562e+09</td>\n",
       "    </tr>\n",
       "    <tr>\n",
       "      <th>2020-08-01</th>\n",
       "      <td>-0.475238</td>\n",
       "      <td>1.596240e+09</td>\n",
       "    </tr>\n",
       "    <tr>\n",
       "      <th>2020-09-01</th>\n",
       "      <td>0.006732</td>\n",
       "      <td>1.598918e+09</td>\n",
       "    </tr>\n",
       "    <tr>\n",
       "      <th>2020-10-01</th>\n",
       "      <td>0.768044</td>\n",
       "      <td>1.601510e+09</td>\n",
       "    </tr>\n",
       "    <tr>\n",
       "      <th>2020-11-01</th>\n",
       "      <td>1.506072</td>\n",
       "      <td>1.604189e+09</td>\n",
       "    </tr>\n",
       "    <tr>\n",
       "      <th>2020-12-01</th>\n",
       "      <td>0.752286</td>\n",
       "      <td>1.606781e+09</td>\n",
       "    </tr>\n",
       "    <tr>\n",
       "      <th>2021-01-01</th>\n",
       "      <td>0.470184</td>\n",
       "      <td>1.609459e+09</td>\n",
       "    </tr>\n",
       "    <tr>\n",
       "      <th>2021-02-01</th>\n",
       "      <td>0.160254</td>\n",
       "      <td>1.612138e+09</td>\n",
       "    </tr>\n",
       "    <tr>\n",
       "      <th>2021-03-01</th>\n",
       "      <td>0.415922</td>\n",
       "      <td>1.614557e+09</td>\n",
       "    </tr>\n",
       "    <tr>\n",
       "      <th>2021-04-01</th>\n",
       "      <td>0.455133</td>\n",
       "      <td>1.617235e+09</td>\n",
       "    </tr>\n",
       "    <tr>\n",
       "      <th>2021-05-01</th>\n",
       "      <td>0.314514</td>\n",
       "      <td>1.619827e+09</td>\n",
       "    </tr>\n",
       "    <tr>\n",
       "      <th>2021-06-01</th>\n",
       "      <td>-0.678578</td>\n",
       "      <td>1.622506e+09</td>\n",
       "    </tr>\n",
       "    <tr>\n",
       "      <th>2021-07-01</th>\n",
       "      <td>0.667743</td>\n",
       "      <td>1.625098e+09</td>\n",
       "    </tr>\n",
       "    <tr>\n",
       "      <th>2021-08-01</th>\n",
       "      <td>0.122565</td>\n",
       "      <td>1.627776e+09</td>\n",
       "    </tr>\n",
       "    <tr>\n",
       "      <th>2021-09-01</th>\n",
       "      <td>0.436882</td>\n",
       "      <td>1.630454e+09</td>\n",
       "    </tr>\n",
       "    <tr>\n",
       "      <th>2021-10-01</th>\n",
       "      <td>0.072258</td>\n",
       "      <td>1.633046e+09</td>\n",
       "    </tr>\n",
       "    <tr>\n",
       "      <th>2021-11-01</th>\n",
       "      <td>0.312920</td>\n",
       "      <td>1.635725e+09</td>\n",
       "    </tr>\n",
       "    <tr>\n",
       "      <th>2021-12-01</th>\n",
       "      <td>0.451405</td>\n",
       "      <td>1.638317e+09</td>\n",
       "    </tr>\n",
       "    <tr>\n",
       "      <th>2022-01-01</th>\n",
       "      <td>1.273015</td>\n",
       "      <td>1.640995e+09</td>\n",
       "    </tr>\n",
       "    <tr>\n",
       "      <th>2022-02-01</th>\n",
       "      <td>0.097037</td>\n",
       "      <td>1.643674e+09</td>\n",
       "    </tr>\n",
       "    <tr>\n",
       "      <th>2022-03-01</th>\n",
       "      <td>0.280901</td>\n",
       "      <td>1.646093e+09</td>\n",
       "    </tr>\n",
       "    <tr>\n",
       "      <th>2022-04-01</th>\n",
       "      <td>0.307021</td>\n",
       "      <td>1.648771e+09</td>\n",
       "    </tr>\n",
       "    <tr>\n",
       "      <th>2022-05-01</th>\n",
       "      <td>1.725745</td>\n",
       "      <td>1.651363e+09</td>\n",
       "    </tr>\n",
       "    <tr>\n",
       "      <th>2022-06-01</th>\n",
       "      <td>1.453232</td>\n",
       "      <td>1.654042e+09</td>\n",
       "    </tr>\n",
       "    <tr>\n",
       "      <th>2022-07-01</th>\n",
       "      <td>-0.709550</td>\n",
       "      <td>1.656634e+09</td>\n",
       "    </tr>\n",
       "  </tbody>\n",
       "</table>\n",
       "</div>"
      ],
      "text/plain": [
       "            quantity     Timestamp\n",
       "time                              \n",
       "2018-10-01 -1.473724  1.538352e+09\n",
       "2018-11-01 -1.204020  1.541030e+09\n",
       "2018-12-01 -1.490071  1.543622e+09\n",
       "2019-01-01 -1.520123  1.546301e+09\n",
       "2019-02-01 -1.447077  1.548979e+09\n",
       "2019-03-01 -1.262156  1.551398e+09\n",
       "2019-04-01 -0.685444  1.554077e+09\n",
       "2019-05-01 -1.243610  1.556669e+09\n",
       "2019-06-01 -1.045747  1.559347e+09\n",
       "2019-07-01 -1.254585  1.561939e+09\n",
       "2019-08-01 -1.299547  1.564618e+09\n",
       "2019-09-01 -0.409457  1.567296e+09\n",
       "2019-10-01 -0.462516  1.569888e+09\n",
       "2019-11-01  1.517597  1.572566e+09\n",
       "2019-12-01  2.778010  1.575158e+09\n",
       "2020-01-01  1.795506  1.577837e+09\n",
       "2020-02-01  0.020045  1.580515e+09\n",
       "2020-03-01 -0.167983  1.583021e+09\n",
       "2020-04-01  0.200186  1.585699e+09\n",
       "2020-05-01 -0.625867  1.588291e+09\n",
       "2020-06-01 -0.230140  1.590970e+09\n",
       "2020-07-01 -0.675776  1.593562e+09\n",
       "2020-08-01 -0.475238  1.596240e+09\n",
       "2020-09-01  0.006732  1.598918e+09\n",
       "2020-10-01  0.768044  1.601510e+09\n",
       "2020-11-01  1.506072  1.604189e+09\n",
       "2020-12-01  0.752286  1.606781e+09\n",
       "2021-01-01  0.470184  1.609459e+09\n",
       "2021-02-01  0.160254  1.612138e+09\n",
       "2021-03-01  0.415922  1.614557e+09\n",
       "2021-04-01  0.455133  1.617235e+09\n",
       "2021-05-01  0.314514  1.619827e+09\n",
       "2021-06-01 -0.678578  1.622506e+09\n",
       "2021-07-01  0.667743  1.625098e+09\n",
       "2021-08-01  0.122565  1.627776e+09\n",
       "2021-09-01  0.436882  1.630454e+09\n",
       "2021-10-01  0.072258  1.633046e+09\n",
       "2021-11-01  0.312920  1.635725e+09\n",
       "2021-12-01  0.451405  1.638317e+09\n",
       "2022-01-01  1.273015  1.640995e+09\n",
       "2022-02-01  0.097037  1.643674e+09\n",
       "2022-03-01  0.280901  1.646093e+09\n",
       "2022-04-01  0.307021  1.648771e+09\n",
       "2022-05-01  1.725745  1.651363e+09\n",
       "2022-06-01  1.453232  1.654042e+09\n",
       "2022-07-01 -0.709550  1.656634e+09"
      ]
     },
     "execution_count": 5,
     "metadata": {},
     "output_type": "execute_result"
    }
   ],
   "source": [
    "sc = StandardScaler()\n",
    "\n",
    "df_scaled = df.copy()\n",
    "df_scaled['quantity'] = sc.fit_transform(df_open)\n",
    "df_scaled"
   ]
  },
  {
   "cell_type": "code",
   "execution_count": 6,
   "id": "1461eb95",
   "metadata": {},
   "outputs": [
    {
     "data": {
      "text/html": [
       "<div>\n",
       "<style scoped>\n",
       "    .dataframe tbody tr th:only-of-type {\n",
       "        vertical-align: middle;\n",
       "    }\n",
       "\n",
       "    .dataframe tbody tr th {\n",
       "        vertical-align: top;\n",
       "    }\n",
       "\n",
       "    .dataframe thead th {\n",
       "        text-align: right;\n",
       "    }\n",
       "</style>\n",
       "<table border=\"1\" class=\"dataframe\">\n",
       "  <thead>\n",
       "    <tr style=\"text-align: right;\">\n",
       "      <th></th>\n",
       "      <th>Timestamp</th>\n",
       "      <th>quantity</th>\n",
       "    </tr>\n",
       "    <tr>\n",
       "      <th>time</th>\n",
       "      <th></th>\n",
       "      <th></th>\n",
       "    </tr>\n",
       "  </thead>\n",
       "  <tbody>\n",
       "    <tr>\n",
       "      <th>2018-10-01</th>\n",
       "      <td>-1.694876</td>\n",
       "      <td>-1.473724</td>\n",
       "    </tr>\n",
       "    <tr>\n",
       "      <th>2018-11-01</th>\n",
       "      <td>-1.618168</td>\n",
       "      <td>-1.204020</td>\n",
       "    </tr>\n",
       "    <tr>\n",
       "      <th>2018-12-01</th>\n",
       "      <td>-1.543936</td>\n",
       "      <td>-1.490071</td>\n",
       "    </tr>\n",
       "    <tr>\n",
       "      <th>2019-01-01</th>\n",
       "      <td>-1.467228</td>\n",
       "      <td>-1.520123</td>\n",
       "    </tr>\n",
       "    <tr>\n",
       "      <th>2019-02-01</th>\n",
       "      <td>-1.390521</td>\n",
       "      <td>-1.447077</td>\n",
       "    </tr>\n",
       "  </tbody>\n",
       "</table>\n",
       "</div>"
      ],
      "text/plain": [
       "            Timestamp  quantity\n",
       "time                           \n",
       "2018-10-01  -1.694876 -1.473724\n",
       "2018-11-01  -1.618168 -1.204020\n",
       "2018-12-01  -1.543936 -1.490071\n",
       "2019-01-01  -1.467228 -1.520123\n",
       "2019-02-01  -1.390521 -1.447077"
      ]
     },
     "execution_count": 6,
     "metadata": {},
     "output_type": "execute_result"
    }
   ],
   "source": [
    "X_sc = StandardScaler()\n",
    "y_sc = StandardScaler()\n",
    "\n",
    "X = df.iloc[:, 1].values.reshape(-1, 1)\n",
    "y = df.iloc[:, 0].values.reshape(-1, 1)\n",
    "\n",
    "\n",
    "X_scaled = X_sc.fit_transform(X)\n",
    "y_scaled = y_sc.fit_transform(y)\n",
    "\n",
    "\n",
    "df_scaled = pd.DataFrame(index=df_index)\n",
    "df_scaled['Timestamp'] = X_scaled\n",
    "df_scaled['quantity'] = y_scaled\n",
    "df_scaled.head()"
   ]
  },
  {
   "attachments": {},
   "cell_type": "markdown",
   "id": "e5fa6aa4",
   "metadata": {},
   "source": [
    "#### Split data for training and testing ( 8-2 )"
   ]
  },
  {
   "cell_type": "code",
   "execution_count": 7,
   "id": "c929a2b6",
   "metadata": {},
   "outputs": [
    {
     "name": "stdout",
     "output_type": "stream",
     "text": [
      "(36, 2)\n",
      "(10, 2)\n"
     ]
    }
   ],
   "source": [
    "interrupt = int(len(df) * .8)\n",
    "\n",
    "train_data, test_data = df[:interrupt], df[interrupt:]\n",
    "index_test = df.index[interrupt:]\n",
    "print(train_data.shape)\n",
    "print(test_data.shape)"
   ]
  },
  {
   "cell_type": "code",
   "execution_count": 8,
   "id": "cc432d64",
   "metadata": {},
   "outputs": [
    {
     "data": {
      "text/plain": [
       "<matplotlib.legend.Legend at 0x281b9efde70>"
      ]
     },
     "execution_count": 8,
     "metadata": {},
     "output_type": "execute_result"
    },
    {
     "data": {
      "image/png": "[encoded data removed]",
      "text/plain": [
       "<Figure size 1152x648 with 1 Axes>"
      ]
     },
     "metadata": {
      "needs_background": "light"
     },
     "output_type": "display_data"
    }
   ],
   "source": [
    "plt.figure(figsize=(16, 9))\n",
    "plt.grid(True)\n",
    "plt.ylabel('Unit')\n",
    "plt.xlabel('Date')\n",
    "plt.title(\"Forcasting Drug Amount\")\n",
    "plt.plot(train_data['quantity'], 'blue', label='Train data')\n",
    "plt.plot(test_data['quantity'], 'green', label='Test data')\n",
    "plt.legend()"
   ]
  },
  {
   "attachments": {},
   "cell_type": "markdown",
   "id": "f6468fa8",
   "metadata": {},
   "source": [
    "#### Determine the independent variable (X) and the dependent variable (y)"
   ]
  },
  {
   "cell_type": "code",
   "execution_count": 9,
   "id": "b761977a",
   "metadata": {},
   "outputs": [],
   "source": [
    "X_train = train_data['Timestamp'].values.reshape(-1, 1)\n",
    "y_train = train_data['quantity'].values.reshape(-1, 1)\n",
    "\n",
    "X_test = test_data['Timestamp'].values.reshape(-1, 1)\n",
    "y_test = test_data['quantity'].values.reshape(-1, 1)"
   ]
  },
  {
   "attachments": {},
   "cell_type": "markdown",
   "id": "d16a76ba",
   "metadata": {},
   "source": [
    "# Building model "
   ]
  },
  {
   "cell_type": "code",
   "execution_count": 10,
   "id": "f137a11b",
   "metadata": {},
   "outputs": [
    {
     "name": "stderr",
     "output_type": "stream",
     "text": [
      " 64%|██████▍   | 27/42 [00:00<00:00, 35.45it/s]"
     ]
    },
    {
     "name": "stdout",
     "output_type": "stream",
     "text": [
      "OrthogonalMatchingPursuitCV model failed to execute\n",
      "Found array with 1 feature(s) (shape=(36, 1)) while a minimum of 2 is required by OrthogonalMatchingPursuitCV.\n"
     ]
    },
    {
     "name": "stderr",
     "output_type": "stream",
     "text": [
      "100%|██████████| 42/42 [00:02<00:00, 20.82it/s]"
     ]
    },
    {
     "name": "stdout",
     "output_type": "stream",
     "text": [
      "                               Adjusted R-Squared  R-Squared     RMSE  \\\n",
      "Model                                                                   \n",
      "TweedieRegressor                            -0.12       0.01    37.47   \n",
      "DecisionTreeRegressor                       -0.14      -0.02    37.92   \n",
      "ExtraTreeRegressor                          -0.14      -0.02    37.92   \n",
      "ExtraTreesRegressor                         -0.14      -0.02    37.92   \n",
      "XGBRegressor                                -0.14      -0.02    37.92   \n",
      "ElasticNet                                  -0.16      -0.03    38.13   \n",
      "GradientBoostingRegressor                   -0.16      -0.03    38.14   \n",
      "GammaRegressor                              -0.16      -0.03    38.20   \n",
      "AdaBoostRegressor                           -0.16      -0.03    38.26   \n",
      "RandomForestRegressor                       -0.17      -0.04    38.39   \n",
      "ElasticNetCV                                -0.22      -0.09    39.24   \n",
      "BaggingRegressor                            -0.23      -0.09    39.25   \n",
      "KNeighborsRegressor                         -0.41      -0.25    42.12   \n",
      "PassiveAggressiveRegressor                  -0.64      -0.46    45.45   \n",
      "BayesianRidge                               -0.66      -0.47    45.65   \n",
      "RANSACRegressor                             -0.68      -0.49    45.91   \n",
      "LassoLars                                   -0.75      -0.56    46.95   \n",
      "Lasso                                       -0.75      -0.56    46.95   \n",
      "HuberRegressor                              -0.76      -0.56    47.05   \n",
      "RidgeCV                                     -0.77      -0.57    47.20   \n",
      "Ridge                                       -0.77      -0.57    47.20   \n",
      "SGDRegressor                                -0.84      -0.64    48.11   \n",
      "LassoCV                                     -0.85      -0.65    48.29   \n",
      "LarsCV                                      -0.86      -0.65    48.33   \n",
      "Lars                                        -0.86      -0.65    48.33   \n",
      "LassoLarsCV                                 -0.86      -0.65    48.33   \n",
      "LassoLarsIC                                 -0.86      -0.65    48.33   \n",
      "OrthogonalMatchingPursuit                   -0.86      -0.65    48.33   \n",
      "LinearRegression                            -0.86      -0.65    48.33   \n",
      "TransformedTargetRegressor                  -0.86      -0.65    48.33   \n",
      "HistGradientBoostingRegressor               -1.16      -0.92    52.08   \n",
      "DummyRegressor                              -1.16      -0.92    52.08   \n",
      "LGBMRegressor                               -1.16      -0.92    52.08   \n",
      "SVR                                         -1.29      -1.03    53.64   \n",
      "QuantileRegressor                           -1.34      -1.08    54.27   \n",
      "NuSVR                                       -1.65      -1.36    57.75   \n",
      "KernelRidge                                 -2.46      -2.07    65.93   \n",
      "PoissonRegressor                            -2.84      -2.41    69.47   \n",
      "LinearSVR                                   -3.90      -3.35    78.49   \n",
      "MLPRegressor                                -9.26      -8.12   113.59   \n",
      "GaussianProcessRegressor               -301305.61 -267827.10 19465.75   \n",
      "\n",
      "                               Time Taken  \n",
      "Model                                      \n",
      "TweedieRegressor                     0.01  \n",
      "DecisionTreeRegressor                0.00  \n",
      "ExtraTreeRegressor                   0.02  \n",
      "ExtraTreesRegressor                  0.12  \n",
      "XGBRegressor                         0.89  \n",
      "ElasticNet                           0.01  \n",
      "GradientBoostingRegressor            0.06  \n",
      "GammaRegressor                       0.01  \n",
      "AdaBoostRegressor                    0.12  \n",
      "RandomForestRegressor                0.13  \n",
      "ElasticNetCV                         0.07  \n",
      "BaggingRegressor                     0.02  \n",
      "KNeighborsRegressor                  0.01  \n",
      "PassiveAggressiveRegressor           0.01  \n",
      "BayesianRidge                        0.02  \n",
      "RANSACRegressor                      0.02  \n",
      "LassoLars                            0.00  \n",
      "Lasso                                0.01  \n",
      "HuberRegressor                       0.02  \n",
      "RidgeCV                              0.01  \n",
      "Ridge                                0.02  \n",
      "SGDRegressor                         0.01  \n",
      "LassoCV                              0.05  \n",
      "LarsCV                               0.01  \n",
      "Lars                                 0.01  \n",
      "LassoLarsCV                          0.01  \n",
      "LassoLarsIC                          0.01  \n",
      "OrthogonalMatchingPursuit            0.02  \n",
      "LinearRegression                     0.01  \n",
      "TransformedTargetRegressor           0.01  \n",
      "HistGradientBoostingRegressor        0.04  \n",
      "DummyRegressor                       0.01  \n",
      "LGBMRegressor                        0.02  \n",
      "SVR                                  0.02  \n",
      "QuantileRegressor                    0.02  \n",
      "NuSVR                                0.02  \n",
      "KernelRidge                          0.01  \n",
      "PoissonRegressor                     0.01  \n",
      "LinearSVR                            0.02  \n",
      "MLPRegressor                         0.14  \n",
      "GaussianProcessRegressor             0.01  \n"
     ]
    },
    {
     "name": "stderr",
     "output_type": "stream",
     "text": [
      "\n"
     ]
    }
   ],
   "source": [
    "from lazypredict.Supervised import LazyRegressor\n",
    "\n",
    "reg = LazyRegressor(verbose=0, ignore_warnings=False, custom_metric=None)\n",
    "models, predictions = reg.fit(X_train, X_test, y_train, y_test)\n",
    "\n",
    "print(models)"
   ]
  },
  {
   "cell_type": "code",
   "execution_count": 11,
   "id": "326049e7",
   "metadata": {},
   "outputs": [
    {
     "name": "stdout",
     "output_type": "stream",
     "text": [
      "                           Adjusted R-Squared  R-Squared  RMSE  Time Taken\n",
      "Model                                                                     \n",
      "TweedieRegressor                        -0.12       0.01 37.47        0.01\n",
      "DecisionTreeRegressor                   -0.14      -0.02 37.92        0.00\n",
      "ExtraTreeRegressor                      -0.14      -0.02 37.92        0.02\n",
      "ExtraTreesRegressor                     -0.14      -0.02 37.92        0.12\n",
      "XGBRegressor                            -0.14      -0.02 37.92        0.89\n",
      "ElasticNet                              -0.16      -0.03 38.13        0.01\n",
      "GradientBoostingRegressor               -0.16      -0.03 38.14        0.06\n",
      "GammaRegressor                          -0.16      -0.03 38.20        0.01\n",
      "AdaBoostRegressor                       -0.16      -0.03 38.26        0.12\n",
      "RandomForestRegressor                   -0.17      -0.04 38.39        0.13\n",
      "ElasticNetCV                            -0.22      -0.09 39.24        0.07\n",
      "BaggingRegressor                        -0.23      -0.09 39.25        0.02\n"
     ]
    }
   ],
   "source": [
    "top_10= models.sort_values(by='Adjusted R-Squared', ascending=False).head(12)\n",
    "print(top_10)"
   ]
  },
  {
   "attachments": {},
   "cell_type": "markdown",
   "id": "641c34bd",
   "metadata": {},
   "source": [
    "### visualization of autoML"
   ]
  },
  {
   "cell_type": "code",
   "execution_count": 12,
   "id": "be79c93a",
   "metadata": {},
   "outputs": [
    {
     "data": {
      "application/vnd.plotly.v1+json": {
       "config": {
        "plotlyServerURL": "https://plot.ly"
       },
       "data": [
        {
         "hovertemplate": "variable=Adjusted R-Squared<br>Model=%{x}<br>value=%{y}<extra></extra>",
         "legendgroup": "Adjusted R-Squared",
         "line": {
          "color": "red",
          "dash": "solid"
         },
         "marker": {
          "symbol": "circle"
         },
         "mode": "markers+lines",
         "name": "Adjusted R-Squared",
         "orientation": "v",
         "showlegend": true,
         "type": "scatter",
         "x": [
          "TweedieRegressor",
          "DecisionTreeRegressor",
          "ExtraTreeRegressor",
          "ExtraTreesRegressor",
          "XGBRegressor",
          "ElasticNet",
          "GradientBoostingRegressor",
          "GammaRegressor",
          "AdaBoostRegressor",
          "RandomForestRegressor",
          "ElasticNetCV",
          "BaggingRegressor",
          "KNeighborsRegressor",
          "PassiveAggressiveRegressor",
          "BayesianRidge",
          "RANSACRegressor",
          "LassoLars",
          "Lasso",
          "HuberRegressor",
          "RidgeCV",
          "Ridge",
          "SGDRegressor",
          "LassoCV",
          "LarsCV",
          "Lars",
          "LassoLarsCV",
          "LassoLarsIC",
          "OrthogonalMatchingPursuit",
          "LinearRegression",
          "TransformedTargetRegressor",
          "HistGradientBoostingRegressor",
          "DummyRegressor",
          "LGBMRegressor",
          "SVR",
          "QuantileRegressor",
          "NuSVR",
          "KernelRidge",
          "PoissonRegressor",
          "LinearSVR",
          "MLPRegressor",
          "GaussianProcessRegressor"
         ],
         "xaxis": "x",
         "y": [
          -0.11663938595817425,
          -0.14327575297362194,
          -0.14327575297362194,
          -0.14327575297362394,
          -0.14330957197109573,
          -0.15622928814146642,
          -0.15654018448726115,
          -0.1605003149891009,
          -0.1642854882955953,
          -0.17173364772585908,
          -0.22429879817159493,
          -0.2250134005418094,
          -0.4104449346663146,
          -0.6426089208157433,
          -0.6567542493199467,
          -0.6760069424584791,
          -0.752543728266891,
          -0.7525437282668919,
          -0.7599897426160847,
          -0.771718878960137,
          -0.7717188789601721,
          -0.8408795788917383,
          -0.8540243600095954,
          -0.8572829300863893,
          -0.8572829300863893,
          -0.8572829300863893,
          -0.8572829300863893,
          -0.8572829300863898,
          -0.8572829300863927,
          -0.8572829300863927,
          -1.156840519724346,
          -1.156840519724346,
          -1.1568405281874807,
          -1.2879508219885811,
          -1.3421421694985343,
          -1.651741054568606,
          -2.456623384653796,
          -2.8372854546868496,
          -3.899198544296123,
          -9.259636409470387,
          -301305.6077327006
         ],
         "yaxis": "y"
        }
       ],
       "layout": {
        "legend": {
         "title": {
          "text": "variable"
         },
         "tracegroupgap": 0
        },
        "margin": {
         "t": 60
        },
        "showlegend": true,
        "template": {
         "data": {
          "bar": [
           {
            "error_x": {
             "color": "#2a3f5f"
            },
            "error_y": {
             "color": "#2a3f5f"
            },
            "marker": {
             "line": {
              "color": "#E5ECF6",
              "width": 0.5
             },
             "pattern": {
              "fillmode": "overlay",
              "size": 10,
              "solidity": 0.2
             }
            },
            "type": "bar"
           }
          ],
          "barpolar": [
           {
            "marker": {
             "line": {
              "color": "#E5ECF6",
              "width": 0.5
             },
             "pattern": {
              "fillmode": "overlay",
              "size": 10,
              "solidity": 0.2
             }
            },
            "type": "barpolar"
           }
          ],
          "carpet": [
           {
            "aaxis": {
             "endlinecolor": "#2a3f5f",
             "gridcolor": "white",
             "linecolor": "white",
             "minorgridcolor": "white",
             "startlinecolor": "#2a3f5f"
            },
            "baxis": {
             "endlinecolor": "#2a3f5f",
             "gridcolor": "white",
             "linecolor": "white",
             "minorgridcolor": "white",
             "startlinecolor": "#2a3f5f"
            },
            "type": "carpet"
           }
          ],
          "choropleth": [
           {
            "colorbar": {
             "outlinewidth": 0,
             "ticks": ""
            },
            "type": "choropleth"
           }
          ],
          "contour": [
           {
            "colorbar": {
             "outlinewidth": 0,
             "ticks": ""
            },
            "colorscale": [
             [
              0,
              "#0d0887"
             ],
             [
              0.1111111111111111,
              "#46039f"
             ],
             [
              0.2222222222222222,
              "#7201a8"
             ],
             [
              0.3333333333333333,
              "#9c179e"
             ],
             [
              0.4444444444444444,
              "#bd3786"
             ],
             [
              0.5555555555555556,
              "#d8576b"
             ],
             [
              0.6666666666666666,
              "#ed7953"
             ],
             [
              0.7777777777777778,
              "#fb9f3a"
             ],
             [
              0.8888888888888888,
              "#fdca26"
             ],
             [
              1,
              "#f0f921"
             ]
            ],
            "type": "contour"
           }
          ],
          "contourcarpet": [
           {
            "colorbar": {
             "outlinewidth": 0,
             "ticks": ""
            },
            "type": "contourcarpet"
           }
          ],
          "heatmap": [
           {
            "colorbar": {
             "outlinewidth": 0,
             "ticks": ""
            },
            "colorscale": [
             [
              0,
              "#0d0887"
             ],
             [
              0.1111111111111111,
              "#46039f"
             ],
             [
              0.2222222222222222,
              "#7201a8"
             ],
             [
              0.3333333333333333,
              "#9c179e"
             ],
             [
              0.4444444444444444,
              "#bd3786"
             ],
             [
              0.5555555555555556,
              "#d8576b"
             ],
             [
              0.6666666666666666,
              "#ed7953"
             ],
             [
              0.7777777777777778,
              "#fb9f3a"
             ],
             [
              0.8888888888888888,
              "#fdca26"
             ],
             [
              1,
              "#f0f921"
             ]
            ],
            "type": "heatmap"
           }
          ],
          "heatmapgl": [
           {
            "colorbar": {
             "outlinewidth": 0,
             "ticks": ""
            },
            "colorscale": [
             [
              0,
              "#0d0887"
             ],
             [
              0.1111111111111111,
              "#46039f"
             ],
             [
              0.2222222222222222,
              "#7201a8"
             ],
             [
              0.3333333333333333,
              "#9c179e"
             ],
             [
              0.4444444444444444,
              "#bd3786"
             ],
             [
              0.5555555555555556,
              "#d8576b"
             ],
             [
              0.6666666666666666,
              "#ed7953"
             ],
             [
              0.7777777777777778,
              "#fb9f3a"
             ],
             [
              0.8888888888888888,
              "#fdca26"
             ],
             [
              1,
              "#f0f921"
             ]
            ],
            "type": "heatmapgl"
           }
          ],
          "histogram": [
           {
            "marker": {
             "pattern": {
              "fillmode": "overlay",
              "size": 10,
              "solidity": 0.2
             }
            },
            "type": "histogram"
           }
          ],
          "histogram2d": [
           {
            "colorbar": {
             "outlinewidth": 0,
             "ticks": ""
            },
            "colorscale": [
             [
              0,
              "#0d0887"
             ],
             [
              0.1111111111111111,
              "#46039f"
             ],
             [
              0.2222222222222222,
              "#7201a8"
             ],
             [
              0.3333333333333333,
              "#9c179e"
             ],
             [
              0.4444444444444444,
              "#bd3786"
             ],
             [
              0.5555555555555556,
              "#d8576b"
             ],
             [
              0.6666666666666666,
              "#ed7953"
             ],
             [
              0.7777777777777778,
              "#fb9f3a"
             ],
             [
              0.8888888888888888,
              "#fdca26"
             ],
             [
              1,
              "#f0f921"
             ]
            ],
            "type": "histogram2d"
           }
          ],
          "histogram2dcontour": [
           {
            "colorbar": {
             "outlinewidth": 0,
             "ticks": ""
            },
            "colorscale": [
             [
              0,
              "#0d0887"
             ],
             [
              0.1111111111111111,
              "#46039f"
             ],
             [
              0.2222222222222222,
              "#7201a8"
             ],
             [
              0.3333333333333333,
              "#9c179e"
             ],
             [
              0.4444444444444444,
              "#bd3786"
             ],
             [
              0.5555555555555556,
              "#d8576b"
             ],
             [
              0.6666666666666666,
              "#ed7953"
             ],
             [
              0.7777777777777778,
              "#fb9f3a"
             ],
             [
              0.8888888888888888,
              "#fdca26"
             ],
             [
              1,
              "#f0f921"
             ]
            ],
            "type": "histogram2dcontour"
           }
          ],
          "mesh3d": [
           {
            "colorbar": {
             "outlinewidth": 0,
             "ticks": ""
            },
            "type": "mesh3d"
           }
          ],
          "parcoords": [
           {
            "line": {
             "colorbar": {
              "outlinewidth": 0,
              "ticks": ""
             }
            },
            "type": "parcoords"
           }
          ],
          "pie": [
           {
            "automargin": true,
            "type": "pie"
           }
          ],
          "scatter": [
           {
            "fillpattern": {
             "fillmode": "overlay",
             "size": 10,
             "solidity": 0.2
            },
            "type": "scatter"
           }
          ],
          "scatter3d": [
           {
            "line": {
             "colorbar": {
              "outlinewidth": 0,
              "ticks": ""
             }
            },
            "marker": {
             "colorbar": {
              "outlinewidth": 0,
              "ticks": ""
             }
            },
            "type": "scatter3d"
           }
          ],
          "scattercarpet": [
           {
            "marker": {
             "colorbar": {
              "outlinewidth": 0,
              "ticks": ""
             }
            },
            "type": "scattercarpet"
           }
          ],
          "scattergeo": [
           {
            "marker": {
             "colorbar": {
              "outlinewidth": 0,
              "ticks": ""
             }
            },
            "type": "scattergeo"
           }
          ],
          "scattergl": [
           {
            "marker": {
             "colorbar": {
              "outlinewidth": 0,
              "ticks": ""
             }
            },
            "type": "scattergl"
           }
          ],
          "scattermapbox": [
           {
            "marker": {
             "colorbar": {
              "outlinewidth": 0,
              "ticks": ""
             }
            },
            "type": "scattermapbox"
           }
          ],
          "scatterpolar": [
           {
            "marker": {
             "colorbar": {
              "outlinewidth": 0,
              "ticks": ""
             }
            },
            "type": "scatterpolar"
           }
          ],
          "scatterpolargl": [
           {
            "marker": {
             "colorbar": {
              "outlinewidth": 0,
              "ticks": ""
             }
            },
            "type": "scatterpolargl"
           }
          ],
          "scatterternary": [
           {
            "marker": {
             "colorbar": {
              "outlinewidth": 0,
              "ticks": ""
             }
            },
            "type": "scatterternary"
           }
          ],
          "surface": [
           {
            "colorbar": {
             "outlinewidth": 0,
             "ticks": ""
            },
            "colorscale": [
             [
              0,
              "#0d0887"
             ],
             [
              0.1111111111111111,
              "#46039f"
             ],
             [
              0.2222222222222222,
              "#7201a8"
             ],
             [
              0.3333333333333333,
              "#9c179e"
             ],
             [
              0.4444444444444444,
              "#bd3786"
             ],
             [
              0.5555555555555556,
              "#d8576b"
             ],
             [
              0.6666666666666666,
              "#ed7953"
             ],
             [
              0.7777777777777778,
              "#fb9f3a"
             ],
             [
              0.8888888888888888,
              "#fdca26"
             ],
             [
              1,
              "#f0f921"
             ]
            ],
            "type": "surface"
           }
          ],
          "table": [
           {
            "cells": {
             "fill": {
              "color": "#EBF0F8"
             },
             "line": {
              "color": "white"
             }
            },
            "header": {
             "fill": {
              "color": "#C8D4E3"
             },
             "line": {
              "color": "white"
             }
            },
            "type": "table"
           }
          ]
         },
         "layout": {
          "annotationdefaults": {
           "arrowcolor": "#2a3f5f",
           "arrowhead": 0,
           "arrowwidth": 1
          },
          "autotypenumbers": "strict",
          "coloraxis": {
           "colorbar": {
            "outlinewidth": 0,
            "ticks": ""
           }
          },
          "colorscale": {
           "diverging": [
            [
             0,
             "#8e0152"
            ],
            [
             0.1,
             "#c51b7d"
            ],
            [
             0.2,
             "#de77ae"
            ],
            [
             0.3,
             "#f1b6da"
            ],
            [
             0.4,
             "#fde0ef"
            ],
            [
             0.5,
             "#f7f7f7"
            ],
            [
             0.6,
             "#e6f5d0"
            ],
            [
             0.7,
             "#b8e186"
            ],
            [
             0.8,
             "#7fbc41"
            ],
            [
             0.9,
             "#4d9221"
            ],
            [
             1,
             "#276419"
            ]
           ],
           "sequential": [
            [
             0,
             "#0d0887"
            ],
            [
             0.1111111111111111,
             "#46039f"
            ],
            [
             0.2222222222222222,
             "#7201a8"
            ],
            [
             0.3333333333333333,
             "#9c179e"
            ],
            [
             0.4444444444444444,
             "#bd3786"
            ],
            [
             0.5555555555555556,
             "#d8576b"
            ],
            [
             0.6666666666666666,
             "#ed7953"
            ],
            [
             0.7777777777777778,
             "#fb9f3a"
            ],
            [
             0.8888888888888888,
             "#fdca26"
            ],
            [
             1,
             "#f0f921"
            ]
           ],
           "sequentialminus": [
            [
             0,
             "#0d0887"
            ],
            [
             0.1111111111111111,
             "#46039f"
            ],
            [
             0.2222222222222222,
             "#7201a8"
            ],
            [
             0.3333333333333333,
             "#9c179e"
            ],
            [
             0.4444444444444444,
             "#bd3786"
            ],
            [
             0.5555555555555556,
             "#d8576b"
            ],
            [
             0.6666666666666666,
             "#ed7953"
            ],
            [
             0.7777777777777778,
             "#fb9f3a"
            ],
            [
             0.8888888888888888,
             "#fdca26"
            ],
            [
             1,
             "#f0f921"
            ]
           ]
          },
          "colorway": [
           "#636efa",
           "#EF553B",
           "#00cc96",
           "#ab63fa",
           "#FFA15A",
           "#19d3f3",
           "#FF6692",
           "#B6E880",
           "#FF97FF",
           "#FECB52"
          ],
          "font": {
           "color": "#2a3f5f"
          },
          "geo": {
           "bgcolor": "white",
           "lakecolor": "white",
           "landcolor": "#E5ECF6",
           "showlakes": true,
           "showland": true,
           "subunitcolor": "white"
          },
          "hoverlabel": {
           "align": "left"
          },
          "hovermode": "closest",
          "mapbox": {
           "style": "light"
          },
          "paper_bgcolor": "white",
          "plot_bgcolor": "#E5ECF6",
          "polar": {
           "angularaxis": {
            "gridcolor": "white",
            "linecolor": "white",
            "ticks": ""
           },
           "bgcolor": "#E5ECF6",
           "radialaxis": {
            "gridcolor": "white",
            "linecolor": "white",
            "ticks": ""
           }
          },
          "scene": {
           "xaxis": {
            "backgroundcolor": "#E5ECF6",
            "gridcolor": "white",
            "gridwidth": 2,
            "linecolor": "white",
            "showbackground": true,
            "ticks": "",
            "zerolinecolor": "white"
           },
           "yaxis": {
            "backgroundcolor": "#E5ECF6",
            "gridcolor": "white",
            "gridwidth": 2,
            "linecolor": "white",
            "showbackground": true,
            "ticks": "",
            "zerolinecolor": "white"
           },
           "zaxis": {
            "backgroundcolor": "#E5ECF6",
            "gridcolor": "white",
            "gridwidth": 2,
            "linecolor": "white",
            "showbackground": true,
            "ticks": "",
            "zerolinecolor": "white"
           }
          },
          "shapedefaults": {
           "line": {
            "color": "#2a3f5f"
           }
          },
          "ternary": {
           "aaxis": {
            "gridcolor": "white",
            "linecolor": "white",
            "ticks": ""
           },
           "baxis": {
            "gridcolor": "white",
            "linecolor": "white",
            "ticks": ""
           },
           "bgcolor": "#E5ECF6",
           "caxis": {
            "gridcolor": "white",
            "linecolor": "white",
            "ticks": ""
           }
          },
          "title": {
           "x": 0.05
          },
          "xaxis": {
           "automargin": true,
           "gridcolor": "white",
           "linecolor": "white",
           "ticks": "",
           "title": {
            "standoff": 15
           },
           "zerolinecolor": "white",
           "zerolinewidth": 2
          },
          "yaxis": {
           "automargin": true,
           "gridcolor": "white",
           "linecolor": "white",
           "ticks": "",
           "title": {
            "standoff": 15
           },
           "zerolinecolor": "white",
           "zerolinewidth": 2
          }
         }
        },
        "title": {
         "text": "Ad R^2 vs Model",
         "xanchor": "center",
         "yanchor": "top"
        },
        "xaxis": {
         "anchor": "y",
         "domain": [
          0,
          1
         ],
         "rangeslider": {
          "visible": false
         },
         "title": {
          "text": "Model"
         }
        },
        "yaxis": {
         "anchor": "x",
         "domain": [
          0,
          1
         ],
         "title": {
          "text": "Adjusted R-Squared"
         }
        }
       }
      }
     },
     "metadata": {},
     "output_type": "display_data"
    }
   ],
   "source": [
    "line = px.line(data_frame= models ,y =[\"Adjusted R-Squared\"] , markers = True)\n",
    "line.update_xaxes(title=\"Model\",\n",
    "                rangeslider_visible = False)\n",
    "line.update_yaxes(title = \"Adjusted R-Squared\")\n",
    "line.update_traces(line_color=\"red\")\n",
    "line.update_layout(showlegend = True,\n",
    "    title = {\n",
    "        'text': 'Ad R^2 vs Model',\n",
    "        # 'y':0.94,\n",
    "        # 'x':0.5,\n",
    "        'xanchor': 'center',\n",
    "        'yanchor': 'top'})\n",
    "\n",
    "line.show()"
   ]
  },
  {
   "attachments": {},
   "cell_type": "markdown",
   "id": "c7f20e7b",
   "metadata": {},
   "source": [
    "# Hyperparameter turning (in future)"
   ]
  },
  {
   "cell_type": "code",
   "execution_count": 13,
   "id": "83dd3ee7",
   "metadata": {},
   "outputs": [],
   "source": [
    "def plot_pred_act(model):\n",
    "\n",
    "    model.fit(X_train,y_train)\n",
    "    pred = model.predict(X_test)\n",
    "\n",
    "    inv_pred = y_sc.inverse_transform(pred.reshape(-1, 1))\n",
    "    inv_test = y_sc.inverse_transform(y_test.reshape(-1, 1))\n",
    "\n",
    "    plt.figure(figsize=(16, 9))\n",
    "    plt.grid(True)\n",
    "    plt.ylabel('Drug amount')\n",
    "    plt.plot(column_or_1d(inv_test), 'blue', label='Actual data')\n",
    "    plt.plot(column_or_1d(inv_pred), 'red', label='Predicted data')\n",
    "    plt.legend()\n"
   ]
  },
  {
   "cell_type": "code",
   "execution_count": 14,
   "id": "e8358474",
   "metadata": {},
   "outputs": [
    {
     "data": {
      "image/png": "[encoded data removed]",
      "text/plain": [
       "<Figure size 1152x648 with 1 Axes>"
      ]
     },
     "metadata": {
      "needs_background": "light"
     },
     "output_type": "display_data"
    }
   ],
   "source": [
    "from sklearn.linear_model import LinearRegression\n",
    "\n",
    "plot_pred_act(LinearRegression())"
   ]
  },
  {
   "cell_type": "code",
   "execution_count": 15,
   "id": "ab2222b5",
   "metadata": {},
   "outputs": [
    {
     "data": {
      "image/png": "[encoded data removed]",
      "text/plain": [
       "<Figure size 1152x648 with 1 Axes>"
      ]
     },
     "metadata": {
      "needs_background": "light"
     },
     "output_type": "display_data"
    }
   ],
   "source": [
    "from sklearn.linear_model import TweedieRegressor\n",
    "\n",
    "plot_pred_act(TweedieRegressor())"
   ]
  },
  {
   "cell_type": "code",
   "execution_count": 18,
   "id": "63f29586",
   "metadata": {},
   "outputs": [
    {
     "data": {
      "image/png": "[encoded data removed]",
      "text/plain": [
       "<Figure size 1152x648 with 1 Axes>"
      ]
     },
     "metadata": {
      "needs_background": "light"
     },
     "output_type": "display_data"
    }
   ],
   "source": [
    "from sklearn.ensemble import ExtraTreesRegressor\n",
    "\n",
    "plot_pred_act(ExtraTreesRegressor())"
   ]
  },
  {
   "cell_type": "code",
   "execution_count": 20,
   "id": "84ba2622",
   "metadata": {},
   "outputs": [
    {
     "data": {
      "image/png": "[encoded data removed]",
      "text/plain": [
       "<Figure size 1152x648 with 1 Axes>"
      ]
     },
     "metadata": {
      "needs_background": "light"
     },
     "output_type": "display_data"
    }
   ],
   "source": [
    "\n",
    "from sklearn.tree import DecisionTreeRegressor\n",
    "\n",
    "plot_pred_act(DecisionTreeRegressor())"
   ]
  },
  {
   "cell_type": "code",
   "execution_count": 21,
   "id": "a4c9041e",
   "metadata": {},
   "outputs": [
    {
     "data": {
      "image/png": "[encoded data removed]",
      "text/plain": [
       "<Figure size 1152x648 with 1 Axes>"
      ]
     },
     "metadata": {
      "needs_background": "light"
     },
     "output_type": "display_data"
    }
   ],
   "source": [
    "from sklearn.ensemble import RandomForestRegressor\n",
    "\n",
    "plot_pred_act(RandomForestRegressor())"
   ]
  },
  {
   "attachments": {},
   "cell_type": "markdown",
   "id": "eee654fb",
   "metadata": {},
   "source": [
    "#### Try with Linear Regression (temp)"
   ]
  },
  {
   "cell_type": "code",
   "execution_count": null,
   "id": "0ac9fa14",
   "metadata": {},
   "outputs": [],
   "source": [
    "from sklearn.linear_model import LinearRegression\n",
    "LR_model = LinearRegression()\n",
    "LR_model.fit(X_train,y_train)\n",
    "pred = LR_model.predict(X_test)\n",
    "pred"
   ]
  },
  {
   "attachments": {},
   "cell_type": "markdown",
   "id": "955fb71a",
   "metadata": {},
   "source": [
    "#### Transform back to original form"
   ]
  },
  {
   "cell_type": "code",
   "execution_count": null,
   "id": "de39aab8",
   "metadata": {},
   "outputs": [],
   "source": [
    "inv_pred = y_sc.inverse_transform(pred.reshape(-1, 1))\n",
    "inv_test = y_sc.inverse_transform(y_test.reshape(-1, 1))\n"
   ]
  },
  {
   "attachments": {},
   "cell_type": "markdown",
   "id": "b361c525",
   "metadata": {},
   "source": [
    "#### Graph the test set and the prediction results"
   ]
  },
  {
   "cell_type": "code",
   "execution_count": null,
   "id": "4eb055cc",
   "metadata": {},
   "outputs": [],
   "source": [
    "plt.figure(figsize=(16, 9))\n",
    "plt.grid(True)\n",
    "plt.ylabel('Drug amount')\n",
    "plt.plot(column_or_1d(inv_test), 'blue', label='Actual data')\n",
    "plt.plot(column_or_1d(inv_pred), 'red', label='Predicted data')\n",
    "plt.legend()"
   ]
  },
  {
   "attachments": {},
   "cell_type": "markdown",
   "id": "94c5e3f8",
   "metadata": {},
   "source": [
    "#### Model Evaluation"
   ]
  },
  {
   "cell_type": "code",
   "execution_count": null,
   "id": "0ffcb0ec",
   "metadata": {},
   "outputs": [],
   "source": [
    "from sklearn.metrics import r2_score\n",
    "mae = mean_absolute_error(inv_test, inv_pred) \n",
    "mape = mean_absolute_percentage_error(inv_test, inv_pred)\n",
    "mse = mean_squared_error(inv_test, inv_pred)\n",
    "rmse = np.sqrt(mse) \n",
    "r2 = r2_score(inv_test, inv_pred)\n",
    "print(f\"MAE: {mae:.2f}\")\n",
    "print(f\"MAPE: {mape*100:.2f}%\")\n",
    "print(f\"MSE: {mse:.2f}\")\n",
    "print(f\"RMSE: {rmse:.2f}\")\n",
    "print(f\"R2: {r2:.2f}\")"
   ]
  },
  {
   "cell_type": "code",
   "execution_count": null,
   "id": "bffdec96",
   "metadata": {},
   "outputs": [],
   "source": [
    "df_pred = pd.DataFrame(columns=['Actual', 'Pred', 'Error'], index=index_test)\n",
    "df_pred['Actual'] = column_or_1d(inv_test)\n",
    "df_pred['Pred'] = column_or_1d(inv_pred)\n",
    "df_pred['Error'] = df_pred['Actual'] - df_pred['Pred']\n",
    "df_pred"
   ]
  }
 ],
 "metadata": {
  "kernelspec": {
   "display_name": "Python 3 (ipykernel)",
   "language": "python",
   "name": "python3"
  },
  "language_info": {
   "codemirror_mode": {
    "name": "ipython",
    "version": 3
   },
   "file_extension": ".py",
   "mimetype": "text/x-python",
   "name": "python",
   "nbconvert_exporter": "python",
   "pygments_lexer": "ipython3",
   "version": "3.10.9"
  }
 },
 "nbformat": 4,
 "nbformat_minor": 5
}
